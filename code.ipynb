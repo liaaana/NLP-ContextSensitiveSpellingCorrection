{
 "cells": [
  {
   "cell_type": "markdown",
   "metadata": {
    "id": "DIgM6C9HYUhm"
   },
   "source": [
    "# Context-sensitive Spelling Correction\n",
    "\n",
    "Name: Liana Mardanova\n",
    "e-mail: l.mardanova@innopolis.university\n",
    "Group: DS-01\n",
    "\n",
    "Grading:\n",
    "- 60 points - Implement spelling correction\n",
    "- 20 points - Justify your decisions\n",
    "- 20 points - Evaluate on a test set\n"
   ]
  },
  {
   "cell_type": "markdown",
   "metadata": {},
   "source": [
    "## Justification of Decisions\n",
    "\n",
    "### 1. Comparison with Norvig’s Spell Corrector: Need for Context-Aware Correction\n",
    "\n",
    "One of the main reasons for moving away from **Norvig’s spell corrector** is its use of a **unigram-based approach**, which treats each word independently. This approach limits the ability to handle contextual relationships in sentences. Below is a comparison between Norvig’s model and my context-aware model:\n",
    "\n",
    "#### Test Sentences:\n",
    "\n",
    "```python\n",
    "test_sentences = [\n",
    "    \"a bad cas of the\",\n",
    "    \"He fel in a puddle.\",\n",
    "    \"He did not fel well.\"\n",
    "]\n",
    "```\n",
    "\n",
    "#### Norvig’s Output:\n",
    "\n",
    "Original: a bad cas of the  \n",
    "Corrected: a bad was of the  \n",
    "\n",
    "Original: He fel in a puddle.  \n",
    "Corrected: he few in a puddles  \n",
    "\n",
    "Original: He did not fel well.  \n",
    "Corrected: he did not few well  \n",
    "\n",
    "\n",
    "In these examples, Norvig makes incorrect corrections:\n",
    "- \"cas\" is changed to \"was\" instead of \"case\".\n",
    "- \"fel\" is corrected to \"few\", which is incorrect in this context.\n",
    "- \"fel well\" is corrected to \"few well\", which makes no sense grammatically or semantically.\n",
    "\n",
    "#### My Model’s Output:\n",
    "\n",
    "Original: a bad cas of the  \n",
    "Corrected: a bad case of the  \n",
    "\n",
    "Original: He fel in a puddle.  \n",
    "Corrected: he fell in a puddle .  \n",
    "\n",
    "Original: He did not fel well.  \n",
    "Corrected: he did not feel well .  \n",
    "\n",
    "\n",
    "In contrast, my model correctly identifies that:\n",
    "- \"cas\" should be corrected to \"case\", maintaining the meaning of the sentence.\n",
    "- \"fel\" should be corrected to \"fell\" or \"feel\" depending on the context, improving the grammatical correctness and semantic meaning of the sentence.\n",
    "\n",
    "The need for **context-aware spelling correction** is evident here, as **n-grams** (which capture context) allow for more accurate predictions compared to Norvig’s unigram-based approach.\n",
    "\n",
    "\n",
    "### 2. Choice of Brown NLTK Dataset and 5-grams Dataset\n",
    "\n",
    "The **Brown corpus** is used because it’s a large and diverse dataset, ideal for training n-gram models. The **5-grams** dataset was chosen for its ability to capture longer dependencies between words, which enhances context-aware corrections.\n",
    "\n",
    "The data was divided into **train**, **dev**, and **test** sets to ensure proper evaluation. The **train set** helps build the n-gram model, the **dev set** fine-tunes the model, and the **test set** evaluates its final performance.\n",
    "\n",
    "In the `ContextSensitiveSpellCorrector` class, n-grams are stored in a `defaultdict(int)` for each n-gram size (1-5). This structure efficiently counts occurrences and handles missing keys by initializing them to 0, reducing memory overhead.\n",
    "\n",
    "N-grams are serialized using `pickle`, allowing for fast storage and retrieval. This prevents reprocessing large datasets, making the model faster on subsequent runs. By storing preprocessed n-grams, we save time and resources when working with large datasets like the Brown corpus.\n",
    "\n",
    "\n",
    "### 3. Tokenizer Usage\"\n",
    "\n",
    "The **`TreebankWordTokenizer`** splits contractions like **\"don't\"** into two tokens: **\"do\"** and **\"n't\"**, ensuring accurate n-gram representation. This is crucial for capturing context and avoiding misinterpretations. Without this, space-splitting would incorrectly handle contractions, leading to inaccurate models. \n",
    "\n",
    "### 4. Probability Calculation and Use of Dev Set for Parameter Tuning\n",
    "\n",
    "The probability calculation uses bigram probabilities with **add-k smoothing**\", falling back to unigrams when bigrams are not available. This approach ensures smooth handling of rare or unseen word pairs. The dev set was essential for choosing n = 2 for n-grams and adjusting the alpha parameter, which controls the amount of smoothing applied.\n",
    "\n",
    "### 5. Context-Sensitive Corrector with N-Grams\n",
    "\n",
    "The context-sensitive corrector uses **Maximum Likelihood Estimation (MLE)** to calculate the probability of a word given its context using **logarithms** to avoid underflow.\n",
    "\n",
    "**Beam search** keeps the top \\( k \\) candidate sequences, reducing the computational cost. The beam width, typically tuned to 10 based on dev set performance, limits the number of sequences explored, ensuring efficiency. A **heap** is used to efficiently manage and update the top candidates at each step of beam search, ensuring quick access to the most probable sequences.\n",
    "\n",
    "For the sentence **\"He did not fel well\"**, the beam search explores corrections for \"fel\" like \"feel\", \"fell\", and \"felt\". It calculates the log-probabilities for each candidate and selects the sequence with the highest cumulative log-probability, such as **\"He did not feel well\"**.\n",
    "\n",
    "The beam width of 10, tuned on the dev set, ensures the model efficiently finds the best correction.\n",
    "\n",
    "### 6. Fair evaluation\n",
    "\n",
    "I wanted to test on data close to real-world scenarios, so I used the `sage` library to generate realistic test data. This library provides misspelling statistics based on common errors, ensuring the dataset reflects actual user errors.\n"
   ]
  },
  {
   "cell_type": "markdown",
   "metadata": {},
   "source": [
    "## 1. Data loading"
   ]
  },
  {
   "cell_type": "code",
   "execution_count": 1,
   "metadata": {},
   "outputs": [],
   "source": [
    "import random\n",
    "import nltk\n",
    "from nltk.corpus import brown\n",
    "import pandas as pd\n",
    "from tqdm import tqdm\n",
    "import heapq\n",
    "import math\n",
    "import os\n",
    "import re\n",
    "import time\n",
    "import pickle\n",
    "import matplotlib.pyplot as plt\n",
    "import pandas as pd\n",
    "from nltk import TreebankWordTokenizer\n",
    "from collections import Counter, defaultdict"
   ]
  },
  {
   "cell_type": "code",
   "execution_count": 2,
   "metadata": {
    "execution": {
     "iopub.execute_input": "2025-02-25T21:47:20.469279Z",
     "iopub.status.busy": "2025-02-25T21:47:20.468830Z",
     "iopub.status.idle": "2025-02-25T21:47:26.323253Z",
     "shell.execute_reply": "2025-02-25T21:47:26.322254Z",
     "shell.execute_reply.started": "2025-02-25T21:47:20.469242Z"
    },
    "trusted": true
   },
   "outputs": [
    {
     "name": "stderr",
     "output_type": "stream",
     "text": [
      "[nltk_data] Downloading package brown to\n",
      "[nltk_data]     /Users/lianamardanova/nltk_data...\n",
      "[nltk_data]   Package brown is already up-to-date!\n",
      "[nltk_data] Downloading package punkt to\n",
      "[nltk_data]     /Users/lianamardanova/nltk_data...\n",
      "[nltk_data]   Package punkt is already up-to-date!\n"
     ]
    },
    {
     "name": "stdout",
     "output_type": "stream",
     "text": [
      "Data split: 45872 train, 2867 dev test, 8601 test\n",
      "Files saved: brown_train.txt, brown_dev_test.txt, brown_test.txt\n"
     ]
    }
   ],
   "source": [
    "\n",
    "# Load, shuffle, split (80% train, 5% dev test, 15% test), save\n",
    "def load_data():\n",
    "    nltk.download(\"brown\")\n",
    "    nltk.download('punkt')\n",
    "    sentences = list(brown.sents())\n",
    "    random.shuffle(sentences)  # Ensure random distribution\n",
    "\n",
    "    # Compute split sizes\n",
    "    total = len(sentences)\n",
    "    train_size = int(0.80 * total)\n",
    "    dev_test_size = int(0.05 * total)\n",
    "    test_size = total - train_size - dev_test_size\n",
    "\n",
    "    # Split into datasets\n",
    "    train_sentences = sentences[:train_size]\n",
    "    dev_test_sentences = sentences[train_size : train_size + dev_test_size]\n",
    "    test_sentences = sentences[train_size + dev_test_size :]\n",
    "\n",
    "    # Convert lists of words into sentences\n",
    "    def format_sentences(sent_list):\n",
    "        return [\" \".join(sent) for sent in sent_list]\n",
    "\n",
    "    train_data = format_sentences(train_sentences)\n",
    "    dev_test_data = format_sentences(dev_test_sentences)\n",
    "    test_data = format_sentences(test_sentences)\n",
    "\n",
    "    # Save to files\n",
    "    with open(\"brown_train.txt\", \"w\", encoding=\"utf-8\") as f:\n",
    "        f.write(\"\\n\".join(train_data))\n",
    "    with open(\"brown_dev_test.txt\", \"w\", encoding=\"utf-8\") as f:\n",
    "        f.write(\"\\n\".join(dev_test_data))\n",
    "    with open(\"brown_test.txt\", \"w\", encoding=\"utf-8\") as f:\n",
    "        f.write(\"\\n\".join(test_data))\n",
    "\n",
    "    print(f\"Data split: {train_size} train, {dev_test_size} dev test, {test_size} test\")\n",
    "    print(\"Files saved: brown_train.txt, brown_dev_test.txt, brown_test.txt\")\n",
    "\n",
    "\n",
    "load_data()"
   ]
  },
  {
   "cell_type": "markdown",
   "metadata": {},
   "source": [
    "## 2. Context Sensitive Spell Corrector"
   ]
  },
  {
   "cell_type": "code",
   "execution_count": 3,
   "metadata": {
    "execution": {
     "iopub.execute_input": "2025-02-25T22:31:08.629103Z",
     "iopub.status.busy": "2025-02-25T22:31:08.628689Z",
     "iopub.status.idle": "2025-02-25T22:31:12.161711Z",
     "shell.execute_reply": "2025-02-25T22:31:12.160867Z",
     "shell.execute_reply.started": "2025-02-25T22:31:08.629067Z"
    },
    "trusted": true
   },
   "outputs": [],
   "source": [
    "class ContextSensitiveSpellCorrector:\n",
    "    \"\"\"\n",
    "    A spell corrector that uses n-grams (1-5) to improve correction accuracy based on context.\n",
    "    It processes text data to extract n-grams, applies probabilistic models for correction,\n",
    "    and supports both single-word and sentence-level corrections using beam search.\n",
    "    \"\"\"\n",
    "\n",
    "    def __init__(self, verbose=False):\n",
    "        \"\"\"Initialize and load or process n-grams.\"\"\"\n",
    "        self.pkl_path = \"ngrams.pkl\"\n",
    "        self.ngram_dicts = {\n",
    "            n: defaultdict(int) for n in range(1, 6)\n",
    "        }  # Stores n-grams of different lengths (1-5)\n",
    "        self.verbose = verbose\n",
    "        self.tokenizer = nltk.tokenize.TreebankWordTokenizer()\n",
    "\n",
    "        if os.path.exists(self.pkl_path):\n",
    "            with open(self.pkl_path, \"rb\") as f:\n",
    "                self.ngram_dicts = pickle.load(\n",
    "                    f\n",
    "                )  # Loads precomputed n-grams from cache if available\n",
    "            if self.verbose:\n",
    "                print(\"Loaded n-grams from cache.\")\n",
    "        else:\n",
    "            self.process_ngrams()  # Otherwise, extract and save n-grams from training data\n",
    "\n",
    "        self.unigrams = self.ngram_dicts[1]  # Unigrams dictionary for quick word lookup\n",
    "\n",
    "    def process_ngrams(self):\n",
    "        \"\"\"Extracts n-grams from files and saves them.\"\"\"\n",
    "        self.load_ngrams(\"fivegrams.txt\")  # Load precomputed 5-grams\n",
    "        self.extract_ngrams(\n",
    "            \"brown_train.txt\"\n",
    "        )  # Extract additional n-grams from training text\n",
    "        with open(self.pkl_path, \"wb\") as f:\n",
    "            pickle.dump(\n",
    "                self.ngram_dicts, f\n",
    "            )  # Cache n-grams to avoid reprocessing in future runs\n",
    "        if self.verbose:\n",
    "            print(\"N-grams processed and saved.\")\n",
    "\n",
    "    def load_ngrams(self, file_path):\n",
    "        \"\"\"Loads 5-grams from a file and extracts all n-grams (1-5).\"\"\"\n",
    "        with open(file_path, \"r\", encoding=\"utf-8\") as file:\n",
    "            lines = file.readlines()\n",
    "\n",
    "        for line in tqdm(lines, desc=\"Loading 5-grams\"):\n",
    "            parts = line.strip().split()\n",
    "            if len(parts) == 6:\n",
    "                count = int(\n",
    "                    parts[0]\n",
    "                )  # First element is the occurrence count of the 5-gram\n",
    "                words = tuple(\n",
    "                    parts[1:]\n",
    "                )  # Remaining elements are the words forming the 5-gram\n",
    "                for n in range(1, 6):\n",
    "                    for i in range(len(words) - n + 1):\n",
    "                        self.ngram_dicts[n][words[i : i + n]] += (\n",
    "                            count  # Populate all n-gram levels\n",
    "                        )\n",
    "\n",
    "        if self.verbose:\n",
    "            print(\"5-grams loaded.\")\n",
    "\n",
    "    def extract_ngrams(self, file_path):\n",
    "        \"\"\"Extracts n-grams (1-5) from a text file and adds to existing dictionary.\"\"\"\n",
    "        with open(file_path, \"r\", encoding=\"utf-8\") as file:\n",
    "            lines = file.readlines()\n",
    "\n",
    "        for line in tqdm(lines, desc=\"Extracting N-Grams\"):\n",
    "            tokens = nltk.word_tokenize(\n",
    "                line.lower()\n",
    "            )  # Tokenizes input text for n-gram extraction\n",
    "            for n in range(1, 6):\n",
    "                if len(tokens) >= n:\n",
    "                    for ngram in nltk.ngrams(tokens, n):\n",
    "                        self.ngram_dicts[n][ngram] += (\n",
    "                            1  # Counts occurrences of extracted n-grams\n",
    "                        )\n",
    "\n",
    "        if self.verbose:\n",
    "            print(\"New n-grams extracted.\")\n",
    "\n",
    "    def tokenize(self, text):\n",
    "        \"\"\"\n",
    "        Tokenizes text using NLTK's TreebankWordTokenizer.\n",
    "        \"\"\"\n",
    "        return self.tokenizer.tokenize(text.lower())\n",
    "\n",
    "    def known(self, words):\n",
    "        \"\"\"\n",
    "        Returns the subset of words that appear in the unigrams dictionary.\n",
    "        \"\"\"\n",
    "        return set(w for w in words if (w,) in self.unigrams)\n",
    "\n",
    "    def edits1(self, word):\n",
    "        \"\"\"\n",
    "        Returns all words that are one edit away from the given word.\n",
    "        \"\"\"\n",
    "        letters = \"abcdefghijklmnopqrstuvwxyz\"\n",
    "        splits = [(word[:i], word[i:]) for i in range(len(word) + 1)]\n",
    "        deletes = [L + R[1:] for L, R in splits if R]\n",
    "        transposes = [L + R[1] + R[0] + R[2:] for L, R in splits if len(R) > 1]\n",
    "        replaces = [L + c + R[1:] for L, R in splits if R for c in letters]\n",
    "        inserts = [L + c + R for L, R in splits for c in letters]\n",
    "        return set(\n",
    "            deletes + transposes + replaces + inserts\n",
    "        )  # Generates possible misspellings as in Norwig's solution\n",
    "\n",
    "    def edits2(self, word):\n",
    "        \"\"\"\n",
    "        Returns all words that are two edits away from the given word.\n",
    "        \"\"\"\n",
    "        return set(\n",
    "            e2 for e1 in self.edits1(word) for e2 in self.edits1(e1)\n",
    "        )  # Expands edit distance\n",
    "\n",
    "    def candidates(self, word):\n",
    "        \"\"\"\n",
    "        Generates possible spelling corrections for a word.\n",
    "        \"\"\"\n",
    "        return (\n",
    "            self.known([word])  # If word exists in unigrams, return it\n",
    "            or self.known(\n",
    "                self.edits1(word)\n",
    "            )  # Otherwise, check words with one edit distance\n",
    "            or self.known(\n",
    "                self.edits2(word)\n",
    "            )  # If still not found, try two edit distances\n",
    "            or {word}  # If all else fails, return original word\n",
    "        )\n",
    "\n",
    "    def probability(self, context, word, alpha=0.5, smoothing=\"add-k\"):\n",
    "        \"\"\"\n",
    "        Computes probability using bigrams and falls back to unigrams if necessary.\n",
    "\n",
    "        Parameters:\n",
    "        - context: Previous words in the sentence (list of strings)\n",
    "        - word: Candidate word to evaluate\n",
    "        - alpha: Smoothing parameter (used in Laplace smoothing)\n",
    "        - smoothing: Smoothing technique ('add-k')\n",
    "\n",
    "        Returns:\n",
    "        - Probability score (float)\n",
    "        \"\"\"\n",
    "        total_unigrams = sum(self.ngram_dicts[1].values())\n",
    "\n",
    "        if len(context) >= 1:\n",
    "            bigram = tuple(context[-1:] + [word])\n",
    "            bigram_count = self.ngram_dicts[2].get(\n",
    "                bigram, 0\n",
    "            )  # Get frequency of bigram occurrence\n",
    "            unigram_count = self.ngram_dicts[1].get(\n",
    "                (context[-1],), 0\n",
    "            )  # Get frequency of preceding word\n",
    "\n",
    "            if smoothing == \"add-k\":\n",
    "                return (bigram_count + alpha) / (\n",
    "                    unigram_count\n",
    "                    + alpha * len(self.ngram_dicts[1])  # Apply Laplace smoothing\n",
    "                )\n",
    "\n",
    "        unigram_prob = (self.ngram_dicts[1].get((word,), 0) + alpha) / (\n",
    "            total_unigrams\n",
    "            + alpha * len(self.ngram_dicts[1])  # Fallback to unigram probability\n",
    "        )\n",
    "        return unigram_prob\n",
    "\n",
    "    def correct_word(self, word, context=None):\n",
    "        \"\"\"\n",
    "        Greedy correction for a single word.\n",
    "        \"\"\"\n",
    "        candidates = self.candidates(word)  # Generate candidate corrections\n",
    "        if not context:\n",
    "            return max(\n",
    "                candidates, key=lambda w: self.ngram_dicts[1].get((w,), 0)\n",
    "            )  # Select based on unigram frequency\n",
    "        else:\n",
    "            return max(\n",
    "                candidates, key=lambda w: self.probability(context, w)\n",
    "            )  # Select based on context probability\n",
    "\n",
    "    def correct_sentence(self, sentence, beam_width=10):\n",
    "        \"\"\"\n",
    "        Corrects a sentence using beam search.\n",
    "        \"\"\"\n",
    "        tokens = self.tokenize(sentence)\n",
    "        beam = [(0.0, [])]  # Initialize beam search with empty sequence\n",
    "\n",
    "        for i, word in enumerate(tokens):\n",
    "            if self.verbose:\n",
    "                print(f\"\\nProcessing token {i + 1}/{len(tokens)}: '{word}'\")\n",
    "            new_beam = []\n",
    "\n",
    "            for score, seq in beam:\n",
    "                context = seq[-4:]  # Use up to 4 previous words as context\n",
    "                candidate_set = self.candidates(word)\n",
    "\n",
    "                for cand in candidate_set:\n",
    "                    new_seq = seq + [cand]\n",
    "                    new_score = 0.0\n",
    "\n",
    "                    for j in range(len(new_seq)):\n",
    "                        sub_context = new_seq[max(0, j - 4) : j]\n",
    "                        current_word = new_seq[j]\n",
    "                        prob = max(\n",
    "                            1e-10, self.probability(sub_context, current_word)\n",
    "                        )  # Avoid log(0)\n",
    "                        new_score += math.log(prob)\n",
    "\n",
    "                    heapq.heappush(new_beam, (new_score, new_seq))\n",
    "                    if len(new_beam) > beam_width:\n",
    "                        heapq.heappop(new_beam)  # Keep only the top candidates\n",
    "\n",
    "                    if self.verbose:\n",
    "                        print(\n",
    "                            f\"Candidate: '{cand}', Context: {context}, New Seq: {new_seq}, Score: {new_score}\"\n",
    "                        )\n",
    "\n",
    "            beam = new_beam\n",
    "\n",
    "        _, best_seq = max(beam, key=lambda x: x[0])  # Select best corrected sentence\n",
    "        return \" \".join(best_seq)\n",
    "\n",
    "\n",
    "context_sensetive_corrector = ContextSensitiveSpellCorrector(verbose=False)\n"
   ]
  },
  {
   "cell_type": "code",
   "execution_count": 4,
   "metadata": {},
   "outputs": [
    {
     "name": "stdout",
     "output_type": "stream",
     "text": [
      "Top 1-grams:\n",
      "  ('a',): 2799082\n",
      "  ('babe',): 34\n",
      "  ('in',): 1911331\n",
      "  ('the',): 7425956\n",
      "  ('woods',): 1895\n",
      "  ('baby',): 4120\n",
      "  ('at',): 585266\n",
      "  ('her',): 217483\n",
      "  ('breast',): 2448\n",
      "  ('brother',): 1728\n",
      "\n",
      "Top 2-grams:\n",
      "  ('a', 'babe'): 16\n",
      "  ('babe', 'in'): 16\n",
      "  ('in', 'the'): 852298\n",
      "  ('the', 'woods'): 1760\n",
      "  ('a', 'baby'): 1740\n",
      "  ('baby', 'at'): 14\n",
      "  ('at', 'her'): 7574\n",
      "  ('her', 'breast'): 56\n",
      "  ('baby', 'brother'): 9\n",
      "  ('brother', 'or'): 63\n",
      "\n",
      "Top 3-grams:\n",
      "  ('a', 'babe', 'in'): 16\n",
      "  ('babe', 'in', 'the'): 16\n",
      "  ('in', 'the', 'woods'): 636\n",
      "  ('a', 'baby', 'at'): 14\n",
      "  ('baby', 'at', 'her'): 6\n",
      "  ('at', 'her', 'breast'): 6\n",
      "  ('a', 'baby', 'brother'): 9\n",
      "  ('baby', 'brother', 'or'): 9\n",
      "  ('brother', 'or', 'sister'): 41\n",
      "  ('a', 'baby', 'crying'): 16\n",
      "\n",
      "Top 4-grams:\n",
      "  ('a', 'babe', 'in', 'the'): 16\n",
      "  ('babe', 'in', 'the', 'woods'): 16\n",
      "  ('a', 'baby', 'at', 'her'): 6\n",
      "  ('baby', 'at', 'her', 'breast'): 6\n",
      "  ('a', 'baby', 'brother', 'or'): 9\n",
      "  ('baby', 'brother', 'or', 'sister'): 9\n",
      "  ('a', 'baby', 'crying', 'in'): 6\n",
      "  ('baby', 'crying', 'in', 'the'): 6\n",
      "  ('a', 'baby', 'girl', 'was'): 6\n",
      "  ('baby', 'girl', 'was', 'born'): 6\n",
      "\n",
      "Top 5-grams:\n",
      "  ('a', 'babe', 'in', 'the', 'woods'): 16\n",
      "  ('a', 'baby', 'at', 'her', 'breast'): 6\n",
      "  ('a', 'baby', 'brother', 'or', 'sister'): 9\n",
      "  ('a', 'baby', 'crying', 'in', 'the'): 6\n",
      "  ('a', 'baby', 'girl', 'was', 'born'): 6\n",
      "  ('a', 'baby', 'in', 'a', 'stroller'): 8\n",
      "  ('a', 'baby', 'in', 'her', 'arms'): 28\n",
      "  ('a', 'baby', 'in', 'his', 'arms'): 7\n",
      "  ('a', 'baby', 'in', 'the', 'house'): 11\n",
      "  ('a', 'baby', 'into', 'the', 'world'): 12\n",
      "\n"
     ]
    }
   ],
   "source": [
    "# Top n-grams for each n (1-5)\n",
    "top_ngrams = {}\n",
    "for n in range(1, 6):\n",
    "    top_ngrams[n] = list(context_sensetive_corrector.ngram_dicts[n].items())[:10]\n",
    "\n",
    "# Display the top 5n-grams for each length\n",
    "for n in range(1, 6):\n",
    "    print(f\"Top {n}-grams:\")\n",
    "    for ngram, count in top_ngrams[n]:\n",
    "        print(f\"  {ngram}: {count}\")\n",
    "    print()"
   ]
  },
  {
   "cell_type": "code",
   "execution_count": 5,
   "metadata": {},
   "outputs": [
    {
     "data": {
      "image/png": "[encoded data removed]",
      "text/plain": [
       "<Figure size 800x600 with 1 Axes>"
      ]
     },
     "metadata": {},
     "output_type": "display_data"
    }
   ],
   "source": [
    "# Bar plot of n-gram counts \n",
    "# Extracting n-gram statistics \n",
    "ngram_stats = { \n",
    "    n: len(context_sensetive_corrector.ngram_dicts[n])\n",
    "    for n in range(1, 6)\n",
    "}\n",
    "\n",
    "fig, ax = plt.subplots(figsize=(8, 6))\n",
    "ax.bar(ngram_stats.keys(), ngram_stats.values())\n",
    "ax.set_title(\"N-Gram Counts (1-5 Grams)\")\n",
    "ax.set_xlabel(\"N-Gram Length\")\n",
    "ax.set_ylabel(\"Count\")\n",
    "\n",
    "plt.tight_layout()\n",
    "plt.show()"
   ]
  },
  {
   "cell_type": "code",
   "execution_count": 6,
   "metadata": {
    "execution": {
     "iopub.execute_input": "2025-02-25T22:31:12.163495Z",
     "iopub.status.busy": "2025-02-25T22:31:12.163020Z",
     "iopub.status.idle": "2025-02-25T22:31:12.170400Z",
     "shell.execute_reply": "2025-02-25T22:31:12.169717Z",
     "shell.execute_reply.started": "2025-02-25T22:31:12.163460Z"
    },
    "trusted": true
   },
   "outputs": [
    {
     "name": "stdout",
     "output_type": "stream",
     "text": [
      "Original: speling\n",
      "Corrected: spelling\n",
      "--------------------------------------------------\n",
      "Original: dking\n",
      "Corrected: doing\n",
      "--------------------------------------------------\n",
      "Original: fel\n",
      "Corrected: few\n",
      "--------------------------------------------------\n"
     ]
    }
   ],
   "source": [
    "test_words = [\n",
    "    \"speling\",\n",
    "    \"dking\",\n",
    "    \"fel\"\n",
    "]\n",
    "\n",
    "for word in test_words:\n",
    "    corrected_word = context_sensetive_corrector.correct_word(word)\n",
    "    print(f\"Original: {word}\")\n",
    "    print(f\"Corrected: {corrected_word}\")\n",
    "    print(\"-\" * 50)"
   ]
  },
  {
   "cell_type": "code",
   "execution_count": 7,
   "metadata": {
    "execution": {
     "iopub.execute_input": "2025-02-25T22:31:12.171941Z",
     "iopub.status.busy": "2025-02-25T22:31:12.171695Z",
     "iopub.status.idle": "2025-02-25T22:31:12.498888Z",
     "shell.execute_reply": "2025-02-25T22:31:12.497949Z",
     "shell.execute_reply.started": "2025-02-25T22:31:12.171919Z"
    },
    "trusted": true
   },
   "outputs": [
    {
     "name": "stdout",
     "output_type": "stream",
     "text": [
      "Original: a bad cas of the\n",
      "Corrected: a bad case of the\n",
      "--------------------------------------------------\n",
      "Original: He fel in a puddle.\n",
      "Corrected: he fell in a puddle .\n",
      "--------------------------------------------------\n",
      "Original: He did not fel well.\n",
      "Corrected: he did not feel well .\n",
      "--------------------------------------------------\n"
     ]
    }
   ],
   "source": [
    "test_sentences = [\n",
    "    \"a bad cas of the\",\n",
    "    \"He fel in a puddle.\",\n",
    "    \"He did not fel well.\"\n",
    "]\n",
    "\n",
    "for sentence in test_sentences:\n",
    "    corrected_sentence = context_sensetive_corrector.correct_sentence(sentence)\n",
    "    print(f\"Original: {sentence}\")\n",
    "    print(f\"Corrected: {corrected_sentence}\")\n",
    "    print(\"-\" * 50)"
   ]
  },
  {
   "cell_type": "markdown",
   "metadata": {
    "id": "46rk65S4GRSe"
   },
   "source": [
    "## 3. Evaluation"
   ]
  },
  {
   "cell_type": "markdown",
   "metadata": {},
   "source": [
    "### Norvig's corrector (from https://norvig.com/spell-correct.html)"
   ]
  },
  {
   "cell_type": "code",
   "execution_count": 8,
   "metadata": {
    "execution": {
     "iopub.execute_input": "2025-02-25T22:31:19.617657Z",
     "iopub.status.busy": "2025-02-25T22:31:19.617311Z",
     "iopub.status.idle": "2025-02-25T22:31:20.007339Z",
     "shell.execute_reply": "2025-02-25T22:31:20.006355Z",
     "shell.execute_reply.started": "2025-02-25T22:31:19.617629Z"
    },
    "trusted": true
   },
   "outputs": [],
   "source": [
    "class NorwigCorrector:\n",
    "    def __init__(self, corpus_path):\n",
    "        self.unigrams = Counter(self.words(open(corpus_path).read()))\n",
    "\n",
    "    def words(self, text):\n",
    "        return re.findall(r'\\w+', text.lower())\n",
    "\n",
    "    def P(self, word):\n",
    "        \"\"\"Probability of `word`.\"\"\"\n",
    "        N = sum(self.unigrams.values())\n",
    "        return self.unigrams[word] / N\n",
    "\n",
    "    def correct_word(self, word):\n",
    "        \"\"\"Most probable spelling correction for word.\"\"\"\n",
    "        return max(self.candidates(word), key=self.P)\n",
    "\n",
    "    def candidates(self, word):\n",
    "        \"\"\"Generate possible spelling corrections for word.\"\"\"\n",
    "        return self.known([word]) or self.known(self.edits1(word)) or self.known(self.edits2(word)) or [word]\n",
    "\n",
    "    def known(self, words):\n",
    "        \"\"\"The subset of `words` that appear in the dictionary of unigrams.\"\"\"\n",
    "        return set(w for w in words if w in self.unigrams)\n",
    "\n",
    "    def edits1(self, word):\n",
    "        \"\"\"All edits that are one edit away from `word`.\"\"\"\n",
    "        letters = 'abcdefghijklmnopqrstuvwxyz'\n",
    "        splits = [(word[:i], word[i:]) for i in range(len(word) + 1)]\n",
    "        deletes = [L + R[1:] for L, R in splits if R]\n",
    "        transposes = [L + R[1] + R[0] + R[2:] for L, R in splits if len(R) > 1]\n",
    "        replaces = [L + c + R[1:] for L, R in splits if R for c in letters]\n",
    "        inserts = [L + c + R for L, R in splits for c in letters]\n",
    "        return set(deletes + transposes + replaces + inserts)\n",
    "\n",
    "    def edits2(self, word):\n",
    "        \"\"\"All edits that are two edits away from `word`.\"\"\"\n",
    "        return set(e2 for e1 in self.edits1(word) for e2 in self.edits1(e1))\n",
    "\n",
    "    # new function to correct words in sentences\n",
    "    def correct_sentence(self, sentence):\n",
    "        \"\"\"Corrects a given sentence by applying spelling correction to each word.\"\"\"\n",
    "        return ' '.join(self.correct_word(word) for word in sentence.split())\n",
    "\n",
    "norwig_corrector = NorwigCorrector('brown_train.txt')"
   ]
  },
  {
   "cell_type": "code",
   "execution_count": 9,
   "metadata": {
    "execution": {
     "iopub.execute_input": "2025-02-25T22:31:20.008969Z",
     "iopub.status.busy": "2025-02-25T22:31:20.008603Z",
     "iopub.status.idle": "2025-02-25T22:31:20.024074Z",
     "shell.execute_reply": "2025-02-25T22:31:20.023133Z",
     "shell.execute_reply.started": "2025-02-25T22:31:20.008934Z"
    },
    "trusted": true
   },
   "outputs": [
    {
     "name": "stdout",
     "output_type": "stream",
     "text": [
      "Original: speling\n",
      "Corrected: spelling\n",
      "--------------------------------------------------\n",
      "Original: dking\n",
      "Corrected: doing\n",
      "--------------------------------------------------\n",
      "Original: fel\n",
      "Corrected: few\n",
      "--------------------------------------------------\n"
     ]
    }
   ],
   "source": [
    "test_words = [\n",
    "    \"speling\",\n",
    "    \"dking\",\n",
    "    \"fel\"\n",
    "]\n",
    "\n",
    "for word in test_words:\n",
    "    corrected_word = norwig_corrector.correct_word(word)\n",
    "    print(f\"Original: {word}\")\n",
    "    print(f\"Corrected: {corrected_word}\")\n",
    "    print(\"-\" * 50)"
   ]
  },
  {
   "cell_type": "code",
   "execution_count": 10,
   "metadata": {
    "execution": {
     "iopub.execute_input": "2025-02-25T22:31:20.949115Z",
     "iopub.status.busy": "2025-02-25T22:31:20.948750Z",
     "iopub.status.idle": "2025-02-25T22:31:21.000514Z",
     "shell.execute_reply": "2025-02-25T22:31:20.999192Z",
     "shell.execute_reply.started": "2025-02-25T22:31:20.949087Z"
    },
    "trusted": true
   },
   "outputs": [
    {
     "name": "stdout",
     "output_type": "stream",
     "text": [
      "Original: a bad cas of the\n",
      "Corrected: a bad was of the\n",
      "--------------------------------------------------\n",
      "Original: He fel in a puddle.\n",
      "Corrected: he few in a puddles\n",
      "--------------------------------------------------\n",
      "Original: He did not fel well.\n",
      "Corrected: he did not few well\n",
      "--------------------------------------------------\n"
     ]
    }
   ],
   "source": [
    "test_sentences = [\n",
    "    \"a bad cas of the\",\n",
    "    \"He fel in a puddle.\",\n",
    "    \"He did not fel well.\"\n",
    "]\n",
    "\n",
    "for sentence in test_sentences:\n",
    "    corrected_sentence = norwig_corrector.correct_sentence(sentence)\n",
    "    print(f\"Original: {sentence}\")\n",
    "    print(f\"Corrected: {corrected_sentence}\")\n",
    "    print(\"-\" * 50)"
   ]
  },
  {
   "cell_type": "markdown",
   "metadata": {},
   "source": [
    "### Evaluating correctors on word misspellings"
   ]
  },
  {
   "cell_type": "code",
   "execution_count": 11,
   "metadata": {
    "execution": {
     "iopub.execute_input": "2025-02-25T22:31:23.147832Z",
     "iopub.status.busy": "2025-02-25T22:31:23.147457Z",
     "iopub.status.idle": "2025-02-25T22:31:23.154730Z",
     "shell.execute_reply": "2025-02-25T22:31:23.153849Z",
     "shell.execute_reply.started": "2025-02-25T22:31:23.147803Z"
    },
    "id": "OwZWaX9VVs7B",
    "trusted": true
   },
   "outputs": [],
   "source": [
    "def spell_correction_test_for_words(file_path, corrector, verbose=False):\n",
    "    \"\"\"\n",
    "    Reads a test set from a file and evaluates the spelling correction model on individual words.\n",
    "\n",
    "    Parameters:\n",
    "    - file_path: Path to the test file (each line in 'correct_word: wrong1 wrong2' format)\n",
    "    - corrector: Spelling correction model instance (must have a 'correct_word' method)\n",
    "    - verbose: If True, outputs detailed correction information\n",
    "\n",
    "    Outputs:\n",
    "    - Displays percentage of correctly fixed words, execution speed per word.\n",
    "    \"\"\"\n",
    "    import time\n",
    "\n",
    "    # Read test cases from file and parse them into (correct_word, misspelled_word) pairs\n",
    "    with open(file_path, 'r', encoding='utf-8') as file:\n",
    "        tests = [(right.strip(), wrong.strip())\n",
    "                 for line in file if ':' in line\n",
    "                 for right, wrongs in [line.strip().split(':')]\n",
    "                 for wrong in wrongs.strip().split()]\n",
    "\n",
    "    start = time.time()\n",
    "    good, unknown = 0, 0\n",
    "    n = len(tests)\n",
    "\n",
    "    vocab = corrector.unigrams \n",
    "\n",
    "    for right, wrong in tests:\n",
    "        w = corrector.correct_word(wrong)\n",
    "        good += (w == right)\n",
    "        if w != right:\n",
    "            unknown += (right not in vocab)\n",
    "            \n",
    "            if verbose:\n",
    "                print(f'correction({wrong}) => {w} ({vocab.get(w, 0)}); expected {right} ({vocab.get(right, 0)})')\n",
    "\n",
    "    dt = time.time() - start\n",
    "    word_accuracy = good / n\n",
    "\n",
    "     # Reports efficiency of correction model\n",
    "    print(f'Accuracy: {word_accuracy:.2%}')\n",
    "    print(f'Processed {n} words in {dt:.2f} seconds')\n",
    "    print(f'Processing Speed: {n / dt:.2f} words per second')"
   ]
  },
  {
   "cell_type": "markdown",
   "metadata": {},
   "source": [
    "#### Norvig's corrector "
   ]
  },
  {
   "cell_type": "code",
   "execution_count": 12,
   "metadata": {
    "execution": {
     "iopub.execute_input": "2025-02-25T22:31:25.446917Z",
     "iopub.status.busy": "2025-02-25T22:31:25.446543Z",
     "iopub.status.idle": "2025-02-25T22:31:35.555594Z",
     "shell.execute_reply": "2025-02-25T22:31:35.554694Z",
     "shell.execute_reply.started": "2025-02-25T22:31:25.446888Z"
    },
    "trusted": true
   },
   "outputs": [
    {
     "name": "stdout",
     "output_type": "stream",
     "text": [
      "Accuracy: 72.22%\n",
      "Processed 270 words in 6.12 seconds\n",
      "Processing Speed: 44.08 words per second\n"
     ]
    }
   ],
   "source": [
    "# Development set \n",
    "spell_correction_test_for_words(\"spell-testset1.txt\", norwig_corrector, verbose=False)"
   ]
  },
  {
   "cell_type": "code",
   "execution_count": 13,
   "metadata": {
    "execution": {
     "iopub.execute_input": "2025-02-25T22:31:35.556966Z",
     "iopub.status.busy": "2025-02-25T22:31:35.556629Z",
     "iopub.status.idle": "2025-02-25T22:31:51.445777Z",
     "shell.execute_reply": "2025-02-25T22:31:51.444857Z",
     "shell.execute_reply.started": "2025-02-25T22:31:35.556932Z"
    },
    "trusted": true
   },
   "outputs": [
    {
     "name": "stdout",
     "output_type": "stream",
     "text": [
      "Accuracy: 73.50%\n",
      "Processed 400 words in 9.94 seconds\n",
      "Processing Speed: 40.25 words per second\n"
     ]
    }
   ],
   "source": [
    "# Final test set\n",
    "spell_correction_test_for_words(\"spell-testset2.txt\", norwig_corrector, verbose=False)"
   ]
  },
  {
   "cell_type": "markdown",
   "metadata": {},
   "source": [
    "#### Context sensetive corrector"
   ]
  },
  {
   "cell_type": "code",
   "execution_count": 14,
   "metadata": {
    "execution": {
     "iopub.execute_input": "2025-02-25T22:32:03.414933Z",
     "iopub.status.busy": "2025-02-25T22:32:03.414508Z",
     "iopub.status.idle": "2025-02-25T22:32:12.895128Z",
     "shell.execute_reply": "2025-02-25T22:32:12.894108Z",
     "shell.execute_reply.started": "2025-02-25T22:32:03.414900Z"
    },
    "trusted": true
   },
   "outputs": [
    {
     "name": "stdout",
     "output_type": "stream",
     "text": [
      "Accuracy: 73.33%\n",
      "Processed 270 words in 6.05 seconds\n",
      "Processing Speed: 44.63 words per second\n"
     ]
    }
   ],
   "source": [
    "# Development set\n",
    "spell_correction_test_for_words(\"spell-testset1.txt\", context_sensetive_corrector, verbose=False)"
   ]
  },
  {
   "cell_type": "code",
   "execution_count": 15,
   "metadata": {
    "execution": {
     "iopub.execute_input": "2025-02-25T22:32:12.896643Z",
     "iopub.status.busy": "2025-02-25T22:32:12.896310Z",
     "iopub.status.idle": "2025-02-25T22:32:28.309547Z",
     "shell.execute_reply": "2025-02-25T22:32:28.308379Z",
     "shell.execute_reply.started": "2025-02-25T22:32:12.896608Z"
    },
    "trusted": true
   },
   "outputs": [
    {
     "name": "stdout",
     "output_type": "stream",
     "text": [
      "Accuracy: 71.50%\n",
      "Processed 400 words in 10.24 seconds\n",
      "Processing Speed: 39.07 words per second\n"
     ]
    }
   ],
   "source": [
    "# Final test set\n",
    "spell_correction_test_for_words(\"spell-testset2.txt\", context_sensetive_corrector, verbose=False)"
   ]
  },
  {
   "cell_type": "markdown",
   "metadata": {},
   "source": [
    "### Evaluating correctors on word misspellings within sentences"
   ]
  },
  {
   "cell_type": "markdown",
   "metadata": {},
   "source": [
    "**Creating Realistic Test Data with `sage`**\n",
    "\n",
    "To generate a **realistic test dataset** for spell correction, I used **misspelling statistics** from [`ai-forever/sage`](https://github.com/ai-forever/sage.git). This library provides **real-world typo distributions** based on phonetic, keyboard, and common spelling mistakes, making the test data more reflective of actual user errors. By leveraging these statistics, we can create **synthetic misspelled words in sentences** to evaluate and fine-tune spell correction model effectively.\n"
   ]
  },
  {
   "cell_type": "code",
   "execution_count": null,
   "metadata": {
    "execution": {
     "iopub.execute_input": "2025-02-25T22:32:37.610969Z",
     "iopub.status.busy": "2025-02-25T22:32:37.610591Z",
     "iopub.status.idle": "2025-02-25T22:32:37.618785Z",
     "shell.execute_reply": "2025-02-25T22:32:37.617721Z",
     "shell.execute_reply.started": "2025-02-25T22:32:37.610941Z"
    },
    "trusted": true
   },
   "outputs": [],
   "source": [
    "def corrupt_sentences_with_sage(input_file_path, output_file_path):\n",
    "    \"\"\"\n",
    "    Generates a corrupted dataset using real-world misspelling patterns from SAGE.\n",
    "\n",
    "    This function takes a clean text dataset and introduces realistic spelling errors\n",
    "    based on statistical models from the SAGE library. It ensures that common typos\n",
    "    (phonetic, keyboard, and spelling errors) are incorporated to create a robust test set.\n",
    "\n",
    "    Parameters:\n",
    "    - input_file_path: Path to the original clean dataset (each line is a sentence).\n",
    "    - output_file_path: Path where the corrupted dataset will be saved.\n",
    "\n",
    "    The function:\n",
    "    - Checks if the corrupted dataset already exists to prevent redundant processing.\n",
    "    - Automatically installs SAGE if missing.\n",
    "    - Uses SAGE’s spelling corruption models to generate realistic typos.\n",
    "    - Saves the corrupted and original sentences in a CSV file for evaluation.\n",
    "    \"\"\"\n",
    "\n",
    "    if os.path.exists(output_file_path):\n",
    "        print(f\"Corrupted dataset already exists: {output_file_path}\")\n",
    "        return\n",
    "\n",
    "    if not os.path.exists(input_file_path):\n",
    "        print(f\"File {input_file_path} not found! Upload it before running.\")\n",
    "        return\n",
    "\n",
    "    print(f\"Found {input_file_path}, processing...\")\n",
    "\n",
    "    try:\n",
    "        from sage.spelling_corruption import SBSCConfig, SBSCCorruptor\n",
    "    except ImportError:\n",
    "        print(\"SAGE not found, installing...\")\n",
    "        os.system(\"git clone https://github.com/ai-forever/sage.git\")\n",
    "        os.chdir(\"sage\")\n",
    "        os.system(\"pip install -e '.[errant]' --quiet\")\n",
    "        from sage.spelling_corruption import SBSCConfig, SBSCCorruptor\n",
    "\n",
    "    with open(input_file_path, \"r\", encoding=\"utf-8\") as file:\n",
    "        lines = [line.strip() for line in file.readlines() if line.strip()]\n",
    "\n",
    "    print(f\"Creating corrupted dataset: {output_file_path}\")\n",
    "\n",
    "    # Configure the corruptor to introduce realistic spelling errors\n",
    "    config = SBSCConfig(\n",
    "        lang=\"en\",\n",
    "        reference_dataset_name_or_path=os.path.join(\"data\", \"example_data\", \"jfleg\"),\n",
    "    )\n",
    "\n",
    "    corruptor = SBSCCorruptor.from_config(config)\n",
    "    corrupted_lines = corruptor.batch_corrupt(lines)\n",
    "\n",
    "    # Save the corrupted sentences alongside their correct versions for evaluation\n",
    "    df = pd.DataFrame({\"corrupted_text\": corrupted_lines, \"corrected_text\": lines})\n",
    "    df.to_csv(output_file_path, index=False)\n",
    "\n",
    "    print(f\"Corrupted dataset saved as {output_file_path}\")"
   ]
  },
  {
   "cell_type": "code",
   "execution_count": null,
   "metadata": {
    "execution": {
     "iopub.execute_input": "2025-02-25T22:32:43.941146Z",
     "iopub.status.busy": "2025-02-25T22:32:43.940783Z",
     "iopub.status.idle": "2025-02-25T22:32:43.945823Z",
     "shell.execute_reply": "2025-02-25T22:32:43.944845Z",
     "shell.execute_reply.started": "2025-02-25T22:32:43.941118Z"
    },
    "trusted": true
   },
   "outputs": [
    {
     "name": "stdout",
     "output_type": "stream",
     "text": [
      "Corrupted dataset already exists: brown_dev_test_corrupted_sentences.txt\n"
     ]
    }
   ],
   "source": [
    "# Create a corrupted version of the Brown development test set using SAGE\n",
    "corrupt_sentences_with_sage(\"brown_dev_test.txt\", \"brown_dev_test_corrupted_sentences.txt\")"
   ]
  },
  {
   "cell_type": "code",
   "execution_count": null,
   "metadata": {
    "execution": {
     "iopub.execute_input": "2025-02-25T22:32:44.396462Z",
     "iopub.status.busy": "2025-02-25T22:32:44.396078Z",
     "iopub.status.idle": "2025-02-25T22:32:44.401111Z",
     "shell.execute_reply": "2025-02-25T22:32:44.400077Z",
     "shell.execute_reply.started": "2025-02-25T22:32:44.396420Z"
    },
    "trusted": true
   },
   "outputs": [
    {
     "name": "stdout",
     "output_type": "stream",
     "text": [
      "Corrupted dataset already exists: brown_test_corrupted_sentences.txt\n"
     ]
    }
   ],
   "source": [
    "# Create a corrupted version of the Brown test set using SAGE\n",
    "corrupt_sentences_with_sage(\"brown_test.txt\", \"brown_test_corrupted_sentences.txt\")"
   ]
  },
  {
   "cell_type": "code",
   "execution_count": null,
   "metadata": {
    "execution": {
     "iopub.execute_input": "2025-02-25T23:10:27.111515Z",
     "iopub.status.busy": "2025-02-25T23:10:27.110648Z",
     "iopub.status.idle": "2025-02-25T23:10:27.120861Z",
     "shell.execute_reply": "2025-02-25T23:10:27.119789Z",
     "shell.execute_reply.started": "2025-02-25T23:10:27.111477Z"
    },
    "trusted": true
   },
   "outputs": [],
   "source": [
    "def spell_correction_test_for_sentences(file_path, corrector, verbose=False):\n",
    "    \"\"\"\n",
    "    Evaluates a spelling correction model on full sentences using a test data.\n",
    "\n",
    "    This function reads a CSV file containing corrupted and corrected sentences, \n",
    "    applies the spell corrector, and compares the predicted corrections against the ground truth. \n",
    "    It calculates the token-level accuracy and measures processing speed.\n",
    "\n",
    "    Parameters:\n",
    "    - file_path: Path to the CSV file with 'corrupted_text' and 'corrected_text' columns.\n",
    "    - corrector: Spelling correction model instance (must have 'correct_sentence' method).\n",
    "    - verbose: If True, outputs detailed correction information.\n",
    "\n",
    "    Outputs:\n",
    "    - Accuracy of word-level corrections across all sentences.\n",
    "    - Processing speed in words per second and sentences per second.\n",
    "    \"\"\"\n",
    "\n",
    "    df = pd.read_csv(file_path)\n",
    "\n",
    "    required_cols = {\"corrupted_text\", \"corrected_text\"}\n",
    "    if not required_cols.issubset(df.columns):\n",
    "        raise ValueError(f\"CSV file must contain columns: {required_cols}\")\n",
    "\n",
    "    df = df.dropna(subset=[\"corrupted_text\", \"corrected_text\"])\n",
    "    tokenizer = TreebankWordTokenizer()\n",
    "    \n",
    "    start = time.time()\n",
    "    total_tokens, count = 0, 0\n",
    "\n",
    "    # Iterates through each sentence in the dataset and applies the correction model\n",
    "    for _, row in tqdm(df.iterrows(), total=len(df), desc=\"Processing Sentences\"):\n",
    "        typo_sentence = row[\"corrupted_text\"]\n",
    "        correct_sentence = row[\"corrected_text\"]\n",
    "        \n",
    "        fixed_sentence = corrector.correct_sentence(typo_sentence)\n",
    "\n",
    "        # Tokenizes the ground truth and corrected sentence for comparison\n",
    "        correct_tokens = tokenizer.tokenize(correct_sentence.lower())\n",
    "        fixed_tokens = tokenizer.tokenize(fixed_sentence.lower())\n",
    "\n",
    "        if verbose:\n",
    "            print(correct_tokens)\n",
    "            print(fixed_tokens)\n",
    "            print([(correct_tokens[i], fixed_tokens[i]) for i in range(min(len(correct_tokens), len(fixed_tokens))) \n",
    "                   if correct_tokens[i] != fixed_tokens[i]])\n",
    "\n",
    "        total_tokens += len(correct_tokens)\n",
    "\n",
    "        # Counts how many words were correctly restored\n",
    "        tmp_count = sum(1 for i in range(min(len(correct_tokens), len(fixed_tokens))) \n",
    "                        if correct_tokens[i] == fixed_tokens[i])\n",
    "        count += tmp_count\n",
    "\n",
    "        if verbose and total_tokens > 0:\n",
    "            print(f'Correct: {correct_sentence}')\n",
    "            print(f'With error:  {typo_sentence}')\n",
    "            print(f'Corrected: {fixed_sentence}')\n",
    "            print(f'Accuracy: {tmp_count}/{len(correct_tokens)}')\n",
    "            print('-' * 50)\n",
    "\n",
    "    dt = time.time() - start\n",
    "\n",
    "    # Computes overall accuracy and processing speed\n",
    "    accuracy = count / total_tokens if total_tokens else 0\n",
    "    print(f'\\nAccuracy: {accuracy:.2%}')\n",
    "    print(f'Processed {len(df)} sentences in {dt:.2f} seconds')\n",
    "    print(f'Processing Speed: {total_tokens / dt:.2f} words/sec, {len(df) / dt:.2f} sentences/sec')\n"
   ]
  },
  {
   "cell_type": "markdown",
   "metadata": {},
   "source": [
    "#### Norvig's corrector "
   ]
  },
  {
   "cell_type": "code",
   "execution_count": 21,
   "metadata": {
    "execution": {
     "iopub.execute_input": "2025-02-25T22:46:16.935788Z",
     "iopub.status.busy": "2025-02-25T22:46:16.934912Z",
     "iopub.status.idle": "2025-02-25T22:46:30.695168Z",
     "shell.execute_reply": "2025-02-25T22:46:30.694314Z",
     "shell.execute_reply.started": "2025-02-25T22:46:16.935717Z"
    },
    "trusted": true
   },
   "outputs": [
    {
     "name": "stderr",
     "output_type": "stream",
     "text": [
      "Processing Sentences: 100%|██████████| 2867/2867 [04:28<00:00, 10.68it/s]"
     ]
    },
    {
     "name": "stdout",
     "output_type": "stream",
     "text": [
      "\n",
      "Accuracy: 75.27%\n",
      "Processed 2867 sentences in 268.48 seconds\n",
      "Processing Speed: 216.90 words/sec, 10.68 sentences/sec\n"
     ]
    },
    {
     "name": "stderr",
     "output_type": "stream",
     "text": [
      "\n"
     ]
    }
   ],
   "source": [
    "# Development set \n",
    "spell_correction_test_for_sentences(\"brown_dev_test_corrupted_sentences.txt\", norwig_corrector, verbose=False)"
   ]
  },
  {
   "cell_type": "code",
   "execution_count": 22,
   "metadata": {
    "execution": {
     "iopub.execute_input": "2025-02-25T22:46:30.696718Z",
     "iopub.status.busy": "2025-02-25T22:46:30.696453Z",
     "iopub.status.idle": "2025-02-25T22:47:01.428723Z",
     "shell.execute_reply": "2025-02-25T22:47:01.427739Z",
     "shell.execute_reply.started": "2025-02-25T22:46:30.696694Z"
    },
    "trusted": true
   },
   "outputs": [
    {
     "name": "stderr",
     "output_type": "stream",
     "text": [
      "Processing Sentences: 100%|██████████| 8601/8601 [13:22<00:00, 10.72it/s]"
     ]
    },
    {
     "name": "stdout",
     "output_type": "stream",
     "text": [
      "\n",
      "Accuracy: 75.17%\n",
      "Processed 8601 sentences in 802.16 seconds\n",
      "Processing Speed: 219.57 words/sec, 10.72 sentences/sec\n"
     ]
    },
    {
     "name": "stderr",
     "output_type": "stream",
     "text": [
      "\n"
     ]
    }
   ],
   "source": [
    "# Final test set\n",
    "spell_correction_test_for_sentences(\"brown_test_corrupted_sentences.txt\", norwig_corrector, verbose=False)"
   ]
  },
  {
   "cell_type": "markdown",
   "metadata": {},
   "source": [
    "#### Context sensetive corrector "
   ]
  },
  {
   "cell_type": "code",
   "execution_count": 23,
   "metadata": {
    "execution": {
     "iopub.execute_input": "2025-02-25T23:09:11.793833Z",
     "iopub.status.busy": "2025-02-25T23:09:11.793445Z",
     "iopub.status.idle": "2025-02-25T23:09:56.488420Z",
     "shell.execute_reply": "2025-02-25T23:09:56.487122Z",
     "shell.execute_reply.started": "2025-02-25T23:09:11.793798Z"
    },
    "trusted": true
   },
   "outputs": [
    {
     "name": "stderr",
     "output_type": "stream",
     "text": [
      "Processing Sentences: 100%|██████████| 2867/2867 [16:43<00:00,  2.86it/s]  "
     ]
    },
    {
     "name": "stdout",
     "output_type": "stream",
     "text": [
      "\n",
      "Accuracy: 97.19%\n",
      "Processed 2867 sentences in 1003.25 seconds\n",
      "Processing Speed: 58.05 words/sec, 2.86 sentences/sec\n"
     ]
    },
    {
     "name": "stderr",
     "output_type": "stream",
     "text": [
      "\n"
     ]
    }
   ],
   "source": [
    "# Development set\n",
    "spell_correction_test_for_sentences(\"brown_dev_test_corrupted_sentences.txt\", context_sensetive_corrector, verbose=False)"
   ]
  },
  {
   "cell_type": "code",
   "execution_count": 24,
   "metadata": {
    "execution": {
     "iopub.execute_input": "2025-02-25T22:47:49.630552Z",
     "iopub.status.busy": "2025-02-25T22:47:49.630182Z",
     "iopub.status.idle": "2025-02-25T22:49:11.699102Z",
     "shell.execute_reply": "2025-02-25T22:49:11.698071Z",
     "shell.execute_reply.started": "2025-02-25T22:47:49.630518Z"
    },
    "trusted": true
   },
   "outputs": [
    {
     "name": "stderr",
     "output_type": "stream",
     "text": [
      "Processing Sentences: 100%|██████████| 8601/8601 [52:49<00:00,  2.71it/s]   "
     ]
    },
    {
     "name": "stdout",
     "output_type": "stream",
     "text": [
      "\n",
      "Accuracy: 97.12%\n",
      "Processed 8601 sentences in 3169.46 seconds\n",
      "Processing Speed: 55.57 words/sec, 2.71 sentences/sec\n"
     ]
    },
    {
     "name": "stderr",
     "output_type": "stream",
     "text": [
      "\n"
     ]
    }
   ],
   "source": [
    "# Final test set\n",
    "spell_correction_test_for_sentences(\"brown_test_corrupted_sentences.txt\", context_sensetive_corrector, verbose=False)"
   ]
  },
  {
   "cell_type": "markdown",
   "metadata": {},
   "source": [
    "## 4. Results\n",
    "\n",
    "I evaluated two spell correction models on various test datasets, focusing on word-level and sentence-level corrections. All results here are based on the final test set.\n",
    "\n",
    "### Word-Level Evaluation\n",
    "\n",
    "The word-level evaluation focuses on correcting individual words. The following table presents the accuracy of each model on the final test set.\n",
    "\n",
    "| Model                    | Final Test Set Accuracy | Processed Words | Time (Seconds) | Processing Speed (words/sec) |\n",
    "|--------------------------|-------------------------|-----------------|----------------|-----------------------------|\n",
    "| Norvig Corrector           | 73.50%                  | 400             | 9.94           | 40.25                       |\n",
    "| Context-Sensitive Corrector                | 71.50%                  | 400             | 10.24          | 39.07                       |\n",
    "\n",
    "The **Norvig Corrector** achieves a slightly higher accuracy compared to **Context-Sensitive Corrector**. However, the processing speed for both models is relatively similar, with Norvig’s corrector processing words a bit faster.\n",
    "\n",
    "### Sentence-Level Evaluation\n",
    "\n",
    "For sentence-level evaluation, I evaluated how well each model can correct sentences with multiple typos. The accuracy of corrections was calculated based on token-level matches between the ground truth and the corrected sentences. The table below shows the results of this evaluation.\n",
    "\n",
    "| Model                    | Final Test Set Accuracy | Processed Sentences | Time (Seconds) | Processing Speed (sentences/sec) |\n",
    "|--------------------------|-------------------------|---------------------|----------------|---------------------------------|\n",
    "| Norvig Corrector           | 75.17%                  | 8601                | 802.16         | 10.72                           |\n",
    "| Context-Sensitive Corrector  | 97.12%                  | 8601                | 3169.46        | 2.71                            |\n",
    "\n",
    "The **Context-Sensitive Corrector** demonstrates a much higher accuracy at the sentence level, although it processes sentences slower than Norvig's model, likely due to the more complex correction approach employed by **Context-Sensitive Corrector**.\n",
    "\n",
    "### Summary\n",
    "\n",
    "In summary, **Norvig Corrector** performs better in terms of speed, both at the word and sentence levels. However, **Context-Sensitive Corrector** significantly outperforms **Norvig Corrector** in terms of accuracy, especially at the sentence level. The trade-off between processing speed and accuracy should be considered based on the application requirements.\n"
   ]
  },
  {
   "cell_type": "markdown",
   "metadata": {},
   "source": [
    "## 5. Future work\n",
    "\n",
    "There are several promising directions that can build upon this work and improve spell correction models:\n",
    "\n",
    "### 1. Enhancing N-gram-Based Corrections with Interpolation  \n",
    "One possible improvement is incorporating **interpolation techniques** from [Jurafsky & Martin’s Speech and Language Processing](https://web.stanford.edu/~jurafsky/slp3/3.pdf). Interpolation allows the model to combine **higher-order n-grams (e.g., trigrams, 4-grams) with lower-order ones** (e.g., unigrams, bigrams) to mitigate **data sparsity issues** and improve correction accuracy. By applying **linear interpolation strategies**, this approach could lead to more reliable word predictions in cases where n-grams are missing or underrepresented in the dataset. Other methods are also can be considered to improve the solution.\n",
    "\n",
    "### 2. Exploring Grammar Correction as a Related Task  \n",
    "While this work focused on **spelling correction**, similar methods might be useful for **grammar correction** as well. Since grammatical errors often involve **misplaced or incorrect words**, n-gram probability models and ranking methods could potentially correct **both spelling and grammar mistakes**. Testing this approach on datasets like the [Kaggle Grammar Correction Dataset](https://www.kaggle.com/datasets/satishgunjal/grammar-correction) would provide valuable insights into its feasibility.\n",
    "\n",
    "### 3. Evaluating on Real-Life Multilingual Datasets  \n",
    "To ensure broader applicability, this approach can be trained and tested on **real-world misspelling datasets** in different languages:\n",
    "- **Croatian:** The [Ispravi-Me dataset](https://github.com/Ispravi-Me/Dataset-of-Misspelings-and-Corrections) contains naturally occurring spelling errors and corrections.\n",
    "- **Russian:** The [AI-Forever Spellcheck Benchmark](https://huggingface.co/datasets/ai-forever/spellcheck_benchmark) provides real-life Russian misspellings.  \n",
    "Applying this method to different languages would help evaluate its generalizability and uncover language-specific error patterns.\n",
    "\n",
    "### 4. Creating a High-Quality Benchmark for English Spelling Correction  \n",
    "There are many multilingual datasets available, but a **strong benchmark for English spelling correction** is still lacking. By leveraging **real-world typo distributions and user-generated errors**, a high-quality dataset could be created to:\n",
    "- **Evaluate and compare** different spell correction methods fairly.\n",
    "- Provide a **standardized test set** for future research.\n",
    "- Reflect **realistic typing and spelling errors**, making corrections more useful for practical applications.\n",
    "\n",
    "Each of these areas represents a separate yet **complementary direction** for improving spell correction, from **algorithmic refinements to multilingual adaptability and dataset creation**.\n"
   ]
  }
 ],
 "metadata": {
  "colab": {
   "provenance": []
  },
  "kaggle": {
   "accelerator": "none",
   "dataSources": [
    {
     "datasetId": 6722198,
     "sourceId": 10854251,
     "sourceType": "datasetVersion"
    }
   ],
   "dockerImageVersionId": 30918,
   "isGpuEnabled": false,
   "isInternetEnabled": true,
   "language": "python",
   "sourceType": "notebook"
  },
  "kernelspec": {
   "display_name": "base",
   "language": "python",
   "name": "python3"
  },
  "language_info": {
   "codemirror_mode": {
    "name": "ipython",
    "version": 3
   },
   "file_extension": ".py",
   "mimetype": "text/x-python",
   "name": "python",
   "nbconvert_exporter": "python",
   "pygments_lexer": "ipython3",
   "version": "3.12.4"
  }
 },
 "nbformat": 4,
 "nbformat_minor": 4
}
